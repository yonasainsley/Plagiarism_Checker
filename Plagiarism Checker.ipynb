{
  "nbformat": 4,
  "nbformat_minor": 0,
  "metadata": {
    "colab": {
      "name": "Detective Checker.ipynb",
      "provenance": []
    },
    "kernelspec": {
      "name": "python3",
      "display_name": "Python 3"
    },
    "language_info": {
      "name": "python"
    }
  },
  "cells": [
    {
      "cell_type": "code",
      "metadata": {
        "colab": {
          "base_uri": "https://localhost:8080/"
        },
        "id": "yj1WMirFM4Fu",
        "outputId": "90f5eda0-301d-4e29-91dd-07898220d8e0"
      },
      "source": [
        "import nltk\n",
        "from nltk.tokenize import word_tokenize\n",
        "from nltk.tokenize import sent_tokenize\n",
        "from nltk.corpus import stopwords\n",
        "nltk.download('punkt')\n",
        "nltk.download('stopwords')"
      ],
      "execution_count": null,
      "outputs": [
        {
          "output_type": "stream",
          "text": [
            "[nltk_data] Downloading package punkt to /root/nltk_data...\n",
            "[nltk_data]   Package punkt is already up-to-date!\n",
            "[nltk_data] Downloading package stopwords to /root/nltk_data...\n",
            "[nltk_data]   Package stopwords is already up-to-date!\n"
          ],
          "name": "stdout"
        },
        {
          "output_type": "execute_result",
          "data": {
            "text/plain": [
              "True"
            ]
          },
          "metadata": {
            "tags": []
          },
          "execution_count": 1
        }
      ]
    },
    {
      "cell_type": "code",
      "metadata": {
        "id": "9kZQn-LlM4s8"
      },
      "source": [
        "original=open('file2.txt',\"r\")\n",
        "original_text=original.read().replace(\"\\n\",\" \")\n",
        "original.close()\n",
        "\n",
        "plagiarized=open('original.txt',\"r\")\n",
        "plagiarized_text=plagiarized.read().replace(\"\\n\",\" \")\n",
        "plagiarized.close()"
      ],
      "execution_count": null,
      "outputs": []
    },
    {
      "cell_type": "code",
      "metadata": {
        "id": "GJ3xblRtM8OM"
      },
      "source": [
        "original_tokens = word_tokenize(original_text)\n",
        "plagiarized_tokens = word_tokenize(plagiarized_text)\n",
        "\n",
        "original_tokens = [token.lower() for token in original_tokens]\n",
        "plagiarized_tokens = [token.lower() for token in plagiarized_tokens]\n",
        "\n",
        "stop_words = set(stopwords.words('english'))\n",
        "punctuations = ['\"','.','(',')',',','?',';',':',\"''\",'``']\n",
        "filtered_original_tokens = [w for w in original_tokens if not w in stop_words and not w in punctuations]\n",
        "filtered_plagiarized_tokens_ = [w for w in plagiarized_tokens if not w in stop_words and not w in punctuations]"
      ],
      "execution_count": null,
      "outputs": []
    },
    {
      "cell_type": "code",
      "metadata": {
        "id": "t0QHIsuIM-Es"
      },
      "source": [
        "def lcs(l1,l2):\n",
        "    s1=word_tokenize(l1)\n",
        "    s2=word_tokenize(l2)\n",
        "    dp = [[None]*(len(s1)+1) for i in range(len(s2)+1)] \n",
        "  \n",
        "    for i in range(len(s2)+1): \n",
        "        for j in range(len(s1)+1): \n",
        "            if i == 0 or j == 0: \n",
        "                dp[i][j] = 0\n",
        "            elif s2[i-1] == s1[j-1]: \n",
        "                dp[i][j] = dp[i-1][j-1]+1\n",
        "            else: \n",
        "                dp[i][j] = max(dp[i-1][j] , dp[i][j-1]) \n",
        "    return dp[len(s2)][len(s1)] "
      ],
      "execution_count": null,
      "outputs": []
    },
    {
      "cell_type": "code",
      "metadata": {
        "colab": {
          "base_uri": "https://localhost:8080/"
        },
        "id": "YKFWff5fNDv_",
        "outputId": "ef70a25b-eeed-40b6-d941-cff2a3c88bcf"
      },
      "source": [
        "sent_o=sent_tokenize(original_text)\n",
        "sent_p=sent_tokenize(plagiarized_text)\n",
        "\n",
        "max_lcs=0\n",
        "sum_lcs=0\n",
        "\n",
        "for i in sent_p:\n",
        "    for j in sent_o:\n",
        "        l=lcs(i,j)\n",
        "        max_lcs=max(max_lcs,l)\n",
        "    sum_lcs+=max_lcs\n",
        "    max_lcs=0\n",
        "\n",
        "score=sum_lcs/len(plagiarized_tokens)\n",
        "print(f'Score: {score*100:.2f}% similarity')"
      ],
      "execution_count": null,
      "outputs": [
        {
          "output_type": "stream",
          "text": [
            "Score: 30.36% similarity\n"
          ],
          "name": "stdout"
        }
      ]
    },
    {
      "cell_type": "code",
      "metadata": {
        "id": "9QtN3m9hWnQ7"
      },
      "source": [
        ""
      ],
      "execution_count": null,
      "outputs": []
    }
  ]
}